{
 "cells": [
  {
   "cell_type": "code",
   "execution_count": 1,
   "metadata": {},
   "outputs": [
    {
     "data": {
      "text/html": [
       "<style>.container { width:90% !important; }</style>"
      ],
      "text/plain": [
       "<IPython.core.display.HTML object>"
      ]
     },
     "metadata": {},
     "output_type": "display_data"
    }
   ],
   "source": [
    "##################################\n",
    "# Notebook \n",
    "%matplotlib inline \n",
    "from IPython.core.display import display, HTML\n",
    "display(HTML(\"<style>.container { width:90% !important; }</style>\"))\n",
    "from IPython.display import Math\n",
    "import warnings\n",
    "warnings.filterwarnings(\"ignore\")\n",
    "\n",
    "##################################\n",
    "# General\n",
    "import numpy as np\n",
    "from scipy.special import erf\n",
    "from scipy import optimize\n",
    "import math\n",
    "import random\n",
    "import scipy as sp\n",
    "\n",
    "##################################\n",
    "# IO\n",
    "import os\n",
    "import sys\n",
    "\n",
    "##################################\n",
    "# Plot\n",
    "import seaborn as sns\n",
    "import matplotlib.pyplot as plt\n",
    "plt.rcParams.update({'font.size': 16})\n",
    "\n",
    "mycmap=sns.cubehelix_palette(50);\n",
    "sns.set()\n",
    "sns.set_style(\"dark\")\n",
    "import matplotlib.style\n",
    "import matplotlib as mpl\n",
    "import matplotlib\n",
    "matplotlib.rcParams['text.usetex'] = True\n",
    "\n",
    "\n",
    "\n",
    "\n",
    "\n"
   ]
  },
  {
   "cell_type": "markdown",
   "metadata": {},
   "source": [
    "# Functions for creating the network"
   ]
  },
  {
   "cell_type": "code",
   "execution_count": 2,
   "metadata": {
    "collapsed": true
   },
   "outputs": [],
   "source": [
    "class setup(object):\n",
    "    \"\"\"\n",
    "       n_e is the number of E populations\n",
    "       n_i is the number of I populations \n",
    "       Nvec is a list with the number of elements \n",
    "       in each population\n",
    "    \n",
    "    \"\"\"\n",
    "\n",
    "    def __init__(self, ne_, ni_, Nv_):\n",
    "        self.ne = ne_\n",
    "        self.ni = ni_\n",
    "        self.n=ne_+ni_\n",
    "        self.Nvec=[int(i) for i in Nv_]\n",
    "        self.N=int(sum(self.Nvec))      \n",
    "\n",
    "        \n",
    "#####################################################################\n",
    "# Circuit\n",
    "\n",
    "def SteadyStatesFunction_Kadmon(z, W,H,nn):\n",
    "    return -z+(np.dot(W,(z>0)*z**nn)+H)\n",
    "\n",
    "def funcDerivative_Kadmon(z, W,H,nn):\n",
    "    return nn*(z>0)*z**(nn-1)\n",
    "\n",
    "      \n",
    "def getSteadyStates_Kadmon( W,H,nn,ic= None):\n",
    "    if ic is None:\n",
    "        ic = np.ones_like(H);\n",
    "    optoutput=optimize.root(SteadyStatesFunction_Kadmon,ic, args=(W,H,nn),tol=1e-7,method='lm');\n",
    "    if optoutput.success:\n",
    "        return optoutput.x\n",
    "    else:\n",
    "        return np.zeros_like(H);\n",
    "\n",
    "def Jacobian_Kadmon(z, W,H,nn):\n",
    "    return np.dot(W,np.diag(funcDerivative_Kadmon(z, W,H,nn)))-np.diag(np.ones_like(z))\n",
    "\n",
    "def IsStable_Kadmon(z, W,H,nn):\n",
    "    J=Jacobian_Kadmon(z, W,H,nn)\n",
    "    Cond=(np.max(np.linalg.eigvals(J))<0)\n",
    "    return Cond\n",
    "\n",
    "def getResponseMatrix_Kadmon( W,H,nn):\n",
    "    z=getSteadyStates_Kadmon( W,H,nn)\n",
    "    InvFF=np.diag(funcDerivative_Kadmon(z, W,H,nn));\n",
    "    M= np.linalg.inv(np.diag(np.ones_like(H))- np.dot(W,F));\n",
    "    return M\n",
    "    \n",
    "    \n",
    "def getResponseMatrixbySSdifferences_Kadmon(inclass,W,H,nn):\n",
    "    ss=getSteadyStates_Kadmon( W,H,nn)\n",
    "    eps=0.001;\n",
    "    R=np.zeros((inclass.N,inclass.N))\n",
    "    for i in np.arange(0,len(H)):\n",
    "        h0=np.zeros_like(H)\n",
    "        h0[i]=eps;\n",
    "        R[:,i]=(getSteadyStates_Kadmon( W,H+h0,nn)-ss)/eps\n",
    "    return R\n",
    "    \n",
    "#####################################################################\n",
    "# Mapping\n",
    "\n",
    "def getEquivalentSmallSystem_Kadmon(inclass,WnScaled,h,nn):\n",
    "    Wrotated=generateWdoubletilde(inclass, WnScaled)\n",
    "    zS= getSteadyStates_Kadmon( Wrotated,h,nn)\n",
    "    derivs= funcDerivative_Kadmon(zS ,Wrotated,h,nn)\n",
    "    return zS, derivs\n",
    "    \n",
    "#OVERLOAD FOR IC\n",
    "def getEquivalentLargeSystem_Kadmon(inclass,FullW,H,nn,ic=None):\n",
    "    zL= getSteadyStates_Kadmon(FullW,H,nn,ic)\n",
    "    derivL= funcDerivative_Kadmon(zL ,FullW,H,nn)\n",
    "    return zL, derivL\n",
    "\n",
    "\n",
    "def generateFullWfromWn(inclass,WnScaled):\n",
    "    nvcs=np.cumsum(inclass.Nvec)\n",
    "    nvcs=np.insert(nvcs,0,0)\n",
    "    FullW=np.zeros((inclass.N,inclass.N));\n",
    "    for i in np.arange(0,inclass.n):\n",
    "        for j in np.arange(0,inclass.n):\n",
    "            FullW[nvcs[i]:nvcs[i+1],nvcs[j]:nvcs[j+1]]=WnScaled[i,j]*np.ones((inclass.Nvec[i],inclass.Nvec[j]))\n",
    "    return FullW\n",
    "    \n",
    "def generateNoisyFullWBlockVariance(inclass,WnScaled,sigmaMat):\n",
    "    nvcs=np.cumsum(inclass.Nvec)\n",
    "    nvcs=np.insert(nvcs,0,0)\n",
    "    NoisyFullW=np.zeros((inclass.N,inclass.N));\n",
    "    for i in np.arange(0,inclass.n):\n",
    "        for j in np.arange(0,inclass.n):\n",
    "            NoisyFullW[nvcs[i]:nvcs[i+1],nvcs[j]:nvcs[j+1]]=np.random.normal(WnScaled[i,j],sigmaMat[i,j]/np.sqrt(inclass.N),[inclass.Nvec[i],inclass.Nvec[j]])\n",
    "    return NoisyFullW    \n",
    "\n",
    "\n",
    "def gensizeNvecfromsizeSmallnvec(inclass,x):\n",
    "    LargeX=[]\n",
    "    for i in np.arange(inclass.n):\n",
    "        LargeX.append(x[i]*np.ones(inclass.Nvec[i]))\n",
    "    return np.concatenate(np.array(LargeX))\n",
    "\n",
    "\n",
    "def generateHomogeneousInputsfromSmallCircuit(inclass,h):\n",
    "    return gensizeNvecfromsizeSmallnvec(inclass,h)\n",
    "\n",
    "\n",
    "def generateWdoubletilde(inclass,WnScaled):\n",
    "    L=np.diagflat(inclass.Nvec)\n",
    "    Wrotated=np.matmul(WnScaled,L)\n",
    "    return Wrotated\n",
    "\n",
    "def getMeanVarianceVecs(inclass,RatesVec):\n",
    "    meanRate=np.zeros(inclass.n)\n",
    "    varRate=np.zeros(inclass.n)\n",
    "    nvcs=np.cumsum(inclass.Nvec)\n",
    "    nvcs=np.insert(nvcs,0,0)\n",
    "    for j in np.arange(0,inclass.n):\n",
    "        meanRate[j]=np.mean(RatesVec[nvcs[j]:nvcs[j+1]])\n",
    "        varRate[j]=np.std(RatesVec[nvcs[j]:nvcs[j+1]])**2\n",
    "    return meanRate, varRate"
   ]
  },
  {
   "cell_type": "markdown",
   "metadata": {},
   "source": [
    "# Here choose which circuit"
   ]
  },
  {
   "cell_type": "code",
   "execution_count": 3,
   "metadata": {
    "collapsed": true
   },
   "outputs": [],
   "source": [
    "\n",
    "############################################\n",
    "#Number of populations ->  change this to n=1 for single I pop, n=2 for EI circuit and to n=4 for EPSV circuit\n",
    "n=4\n",
    "############################################"
   ]
  },
  {
   "cell_type": "markdown",
   "metadata": {},
   "source": [
    "# Define low dimensional parameters"
   ]
  },
  {
   "cell_type": "code",
   "execution_count": 4,
   "metadata": {
    "collapsed": true
   },
   "outputs": [],
   "source": [
    "np.random.rand(2)\n",
    "\n",
    "########## Number of Units\n",
    "N=1200\n",
    "\n",
    "#Number of elements \n",
    "if n==1:\n",
    "    Nvec=[N] \n",
    "elif n==2:\n",
    "    Ne=int(0.3*N)\n",
    "    Ni=int(0.7*N)\n",
    "    Nvec=[Ne,Ni]\n",
    "elif n==4:\n",
    "    Ne=int(0.3*N)\n",
    "    Ni1=int(0.7*0.4*N)\n",
    "    Ni2=int(0.7*0.3*N)\n",
    "    Ni3=int(0.7*0.3*N)\n",
    "    #Number of neurons per pop\n",
    "    Nvec=[Ne,Ni1,Ni2,Ni3]\n",
    "\n",
    "#Number of neurons total\n",
    "N=int(sum(Nvec))\n",
    "\n",
    "############################################\n",
    "########## Connectivity\n",
    "\n",
    "#Define Wn \n",
    "if n==1:\n",
    "    Wn=np.array([[-3]])\n",
    "elif n==2:\n",
    "    Wn=np.array([[1.1, -1.4],[ 1.3 , -1.2]]);\n",
    "elif n==4:\n",
    "    Wn=2*np.array([[0.5, -2,-1,-0.1],[ 3.3 , -1.3,-1,-1],[ 0.6 , -0.1,-0.1,-0.7],[ 2.5, -0.4,-0.5,-0.1]]);\n",
    "\n",
    "\n",
    "#Scaling of the weights\n",
    "nfactor=1/N;\n",
    "WnScaled=Wn*nfactor;\n",
    "    \n",
    "#Variance of the disorder\n",
    "if n==1:\n",
    "    sigmaMat=np.array([[0.4]])\n",
    "elif n==2:\n",
    "    sigmaMat=np.array([[0.1, 0.4],[ 0.3 , 0.6]]);\n",
    "elif n==4:\n",
    "    sigmaMat=np.array([[0.2, 0.2,0.1,0.01],[ 0.2 , 0.8,0.3,0.2],[0.1 , 0.01,0.01,0.1],[ 0.4, 0.2,0.4,0.01]]);\n",
    "\n",
    "\n",
    "\n",
    "\n",
    "\n",
    "############################################\n",
    "##########  Inputs\n",
    "\n",
    "#Variance of the disorder\n",
    "if n==1:\n",
    "    h=np.array([0.4])\n",
    "elif n==2:\n",
    "    h=np.array([1,1.6])\n",
    "elif n==4:\n",
    "    h=np.array([1.3,2,1.5,1.7])\n",
    "\n",
    "\n",
    "\n",
    "lam=0.3 #This is the std of the noise \n",
    "\n",
    "########## SSN power\n",
    "nn=2"
   ]
  },
  {
   "cell_type": "markdown",
   "metadata": {},
   "source": [
    "# Make high dimensional system"
   ]
  },
  {
   "cell_type": "code",
   "execution_count": 5,
   "metadata": {},
   "outputs": [
    {
     "name": "stdout",
     "output_type": "stream",
     "text": [
      "your network of  1199 units is stable\n"
     ]
    }
   ],
   "source": [
    "\n",
    "#################################################################\n",
    "\n",
    "#Make an instance\n",
    "Dis2D=setup(n,0,Nvec)\n",
    "############################################\n",
    "# Initialize\n",
    "ZvecVecSmallSSN=np.zeros(n);\n",
    "ZvecVecLargeSSN_Homogeneous=np.zeros((n,N));\n",
    "ZvecVecLargeSSN_Disordered=np.zeros((n,N));\n",
    "\n",
    "############################################\n",
    "########## HD system\n",
    "\n",
    "#Find HD system connectivities\n",
    "FullWD=generateFullWfromWn(Dis2D,WnScaled);\n",
    "# Here we set the Normally Distributed distributed weights\n",
    "NoisyFullWD=generateNoisyFullWBlockVariance(Dis2D,WnScaled,sigmaMat)\n",
    "#Find HD system inputs\n",
    "H=generateHomogeneousInputsfromSmallCircuit(Dis2D,h)+np.random.normal(0,lam,N)\n",
    "if (H<0).any():\n",
    "    print(\"you cannot have zero inputs analytics wont work. Increase h or decrease lam\")\n",
    "\n",
    "############################################\n",
    "########## Solve HD system\n",
    "ZvecVecSmallSSN,dummy= getEquivalentSmallSystem_Kadmon( Dis2D,WnScaled,h,nn)\n",
    "ZvecVecLargeSSN_Homogeneous,dummy=getEquivalentLargeSystem_Kadmon( Dis2D,FullWD,H,nn)\n",
    "ZvecVecLargeSSN_Disordered,derivesLargeSSN= getEquivalentLargeSystem_Kadmon(Dis2D, NoisyFullWD,H,nn,ZvecVecLargeSSN_Homogeneous)\n",
    "if IsStable_Kadmon(ZvecVecLargeSSN_Disordered, NoisyFullWD,H,nn):\n",
    "    print(\"your network of  \" + str(N) + \" units is stable\")\n",
    "else:\n",
    "    print(\"your network of  \" + str(N) + \" units is unstable\")\n",
    "\n",
    "\n"
   ]
  },
  {
   "cell_type": "markdown",
   "metadata": {},
   "source": [
    "# Plot distributions of fields"
   ]
  },
  {
   "cell_type": "code",
   "execution_count": 6,
   "metadata": {},
   "outputs": [
    {
     "data": {
      "text/plain": [
       "[]"
      ]
     },
     "execution_count": 6,
     "metadata": {},
     "output_type": "execute_result"
    },
    {
     "data": {
      "image/png": "[encoded data removed]",
      "text/plain": [
       "<Figure size 800x400 with 1 Axes>"
      ]
     },
     "metadata": {},
     "output_type": "display_data"
    }
   ],
   "source": [
    "\n",
    "################################################################################\n",
    "################################################################################\n",
    "fig, axs = plt.subplots(1,1, figsize=(8, 4),dpi= 100, facecolor='w', edgecolor='k',sharex=True)\n",
    "fig.subplots_adjust(hspace = 1, wspace=.7)\n",
    "\n",
    "nvcs=np.cumsum(Dis2D.Nvec)\n",
    "nvcs=np.insert(nvcs,0,0)\n",
    "\n",
    "for k in range(n):\n",
    "    Z=ZvecVecLargeSSN_Disordered[nvcs[k]:nvcs[k+1]]\n",
    "    axs.hist(Z,bins=int(0.01*N),normed=True,edgecolor='None',alpha = 0.5,label=\"N\"+str(k)+\"=\"+str(Dis2D.Nvec[k]));\n",
    "    param=sp.stats.norm.fit(Z) # fit the sample data\n",
    "    x=np.linspace(np.min(ZvecVecLargeSSN_Disordered),np.max(ZvecVecLargeSSN_Disordered),300)\n",
    "    pdf_fitted= sp.stats.norm.pdf(x, param[0], param[1]) # fitted distribution\n",
    "    axs.plot(x,pdf_fitted)\n",
    "axs.set_title('Distribution of local fields')\n",
    "\n",
    "\n",
    "axs.legend()\n",
    "frame1 = plt.gca()\n",
    "frame1.axes.yaxis.set_ticklabels([])\n"
   ]
  },
  {
   "cell_type": "markdown",
   "metadata": {},
   "source": [
    "# Set up things we need for the analytics"
   ]
  },
  {
   "cell_type": "code",
   "execution_count": 7,
   "metadata": {
    "collapsed": true
   },
   "outputs": [],
   "source": [
    "\n",
    "\n",
    "meanZ, varZ=getMeanVarianceVecs(Dis2D,ZvecVecLargeSSN_Disordered)\n",
    "#The weight matrix incorporating population sizes differences\n",
    "WmeanModel=Wn\n",
    "WvarModel=sigmaMat**2\n",
    "#Inputs\n",
    "hmeanModel=h\n",
    "hvarModel=np.ones(n)*lam**2;\n",
    "#fraction of neurons\n",
    "fModel=np.array(Nvec)/N"
   ]
  },
  {
   "cell_type": "markdown",
   "metadata": {},
   "source": [
    "# Compare numerics with analytics"
   ]
  },
  {
   "cell_type": "code",
   "execution_count": 8,
   "metadata": {},
   "outputs": [
    {
     "name": "stdout",
     "output_type": "stream",
     "text": [
      "\n",
      "\n",
      "Population 0 Analytics Mean Z is 0.292871640819 and the Var is 0.104705117187\n",
      "Population 0 Numerics  Mean Z is 0.384027763022 and the Var is 0.103845464865\n",
      "\n",
      "\n",
      "Population 1 Analytics Mean Z is 0.531196394677 and the Var is 0.366921738202\n",
      "Population 1 Numerics  Mean Z is 0.530829597053 and the Var is 0.327730337357\n",
      "\n",
      "\n",
      "Population 2 Analytics Mean Z is 0.722433603843 and the Var is 0.107963867038\n",
      "Population 2 Numerics  Mean Z is 0.632525263907 and the Var is 0.109532903743\n",
      "\n",
      "\n",
      "Population 3 Analytics Mean Z is 1.59035344422 and the Var is 0.128375402453\n",
      "Population 3 Numerics  Mean Z is 1.72147975076 and the Var is 0.11677592204\n"
     ]
    }
   ],
   "source": [
    "import scipy.integrate as integrate\n",
    "import scipy.special as special\n",
    "\n",
    "\n",
    "def phi(x):\n",
    "    return (x)**2 *(x>0)\n",
    "\n",
    "def IntegrandMean(ui,deltai,zi):\n",
    "    myintmean=phi(ui+np.sqrt(deltai)*zi)* np.exp(-zi**2/2)/np.sqrt(2*np.pi)\n",
    "    return myintmean\n",
    "\n",
    "def IntegrandVariance(ui,deltai,zi):\n",
    "    myintvar=phi(ui+np.sqrt(deltai)*zi)**2 * np.exp(-zi**2/2)/np.sqrt(2*np.pi)\n",
    "    return myintvar\n",
    "\n",
    "def IntegralMean(u,delta):\n",
    "    return integrate.quad(lambda x: IntegrandMean(u,delta,x), -np.inf,np.inf)[0]\n",
    "\n",
    "def IntegralVariance(u,delta):\n",
    "    return integrate.quad(lambda x: IntegrandVariance(u,delta,x),-np.inf,np.inf)[0]\n",
    "\n",
    "def FindMeanVariance(inudelta,Wmean,Wvar,f,hmean,hvar,n):\n",
    "    neqs=int(2*n);\n",
    "    outudelta=np.zeros(neqs)\n",
    "    intemeans=np.zeros(n)\n",
    "    intevars=np.zeros(n)\n",
    "    \n",
    "    means=inudelta[:n]\n",
    "    varis=inudelta[n:]\n",
    "    \n",
    "    for k in range(n):\n",
    "        intemeans[k]=IntegralMean(means[k],varis[k])\n",
    "        intevars[k]=IntegralVariance(means[k],varis[k])\n",
    "\n",
    "    for k in range(n):\n",
    "        # this are the eqs for the mean\n",
    "        outudelta[k]=hmean[k]+np.dot(Wmean[k,:]*f,intemeans) -means[k]\n",
    "        outudelta[n+k]=hvar[k]+np.dot(Wvar[k,:]*f,intevars)  -varis[k]\n",
    "    return outudelta\n",
    "\n",
    "\n",
    "havesucc=False\n",
    "\n",
    "while not havesucc:\n",
    "    #ic=np.array([meanZ,varZ]).flatten()+0.1*np.random.rand(int(2*n))\n",
    "    ic=0.1*np.random.rand(int(2*n))\n",
    "\n",
    "    optoutput=optimize.root(FindMeanVariance,ic, args=(WmeanModel,WvarModel,fModel,hmeanModel,hvarModel,n),tol=1e-4);\n",
    "    havesucc=optoutput.success\n",
    "\n",
    "for k in range(n):\n",
    "    print(\"\\n\")\n",
    "    print(\"Population \"+ str(k) + \" Analytics Mean Z is \"+str(optoutput.x[k])+ \" and the Var is \"+ str(optoutput.x[k+n]))\n",
    "    print(\"Population \"+ str(k) + \" Numerics  Mean Z is \"+str(meanZ[k])+ \" and the Var is \"+ str(varZ[k]))\n",
    "   "
   ]
  },
  {
   "cell_type": "code",
   "execution_count": null,
   "metadata": {
    "collapsed": true
   },
   "outputs": [],
   "source": []
  }
 ],
 "metadata": {
  "kernelspec": {
   "display_name": "Python 3",
   "language": "python",
   "name": "python3"
  },
  "language_info": {
   "codemirror_mode": {
    "name": "ipython",
    "version": 3
   },
   "file_extension": ".py",
   "mimetype": "text/x-python",
   "name": "python",
   "nbconvert_exporter": "python",
   "pygments_lexer": "ipython3",
   "version": "3.6.1"
  }
 },
 "nbformat": 4,
 "nbformat_minor": 2
}

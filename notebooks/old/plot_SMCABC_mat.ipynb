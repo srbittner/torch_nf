{
 "cells": [
  {
   "cell_type": "code",
   "execution_count": 6,
   "metadata": {},
   "outputs": [
    {
     "name": "stdout",
     "output_type": "stream",
     "text": [
      "The autoreload extension is already loaded. To reload it, use:\n",
      "  %reload_ext autoreload\n"
     ]
    }
   ],
   "source": [
    "%load_ext autoreload\n",
    "%autoreload 2\n",
    "\n",
    "%matplotlib inline\n",
    "import matplotlib.pyplot as plt\n",
    "import numpy as np\n",
    "from torch_nf.systems import Mat\n",
    "\n",
    "ds =  [2, 4, 6]\n",
    "Ts = [10]\n",
    "sigmas = [0.1, 0.2, 0.3, 0.4, 0.5, 0.6, 0.7, 0.8, 0.9, 1.0]\n",
    "random_seeds = [1,2]"
   ]
  },
  {
   "cell_type": "code",
   "execution_count": 7,
   "metadata": {},
   "outputs": [],
   "source": [
    "rs = 1\n",
    "time_per_samps = np.zeros((len(ds), len(Ts), len(sigmas), len(random_seeds)))\n",
    "for i, d in enumerate(ds):\n",
    "    for j, T in enumerate(Ts):\n",
    "        for k, sigma in enumerate(sigmas):\n",
    "            for m, rs in enumerate(random_seeds):\n",
    "                fname = \"data/SMCABC_mat_d=%d_T=%d_sigma=%.2e_rs=%d.npz\" % (d, T, sigma, rs)\n",
    "                try:\n",
    "                    npzfile = np.load(fname)\n",
    "                except:\n",
    "                    time_per_samps[i,j,k,m] = np.nan\n",
    "                    continue\n",
    "                time_per_samp = npzfile['time_per_samp']\n",
    "                time_per_samps[i,j,k,m] = time_per_samp\n"
   ]
  },
  {
   "cell_type": "code",
   "execution_count": 18,
   "metadata": {},
   "outputs": [
    {
     "name": "stdout",
     "output_type": "stream",
     "text": [
      "[[[        nan         nan]\n",
      "  [        nan         nan]\n",
      "  [        nan         nan]\n",
      "  [        nan         nan]\n",
      "  [        nan         nan]\n",
      "  [        nan         nan]\n",
      "  [        nan         nan]\n",
      "  [        nan         nan]\n",
      "  [        nan         nan]\n",
      "  [19.70696494 22.84575184]]]\n"
     ]
    }
   ],
   "source": [
    "best_times = np.nanmin(time_per_samps, axis=(1,2,3))\n",
    "print(time_per_samps[0])"
   ]
  },
  {
   "cell_type": "code",
   "execution_count": 19,
   "metadata": {},
   "outputs": [],
   "source": [
    "ds = [2, 4, 6]\n",
    "rs_list = [1, 2]"
   ]
  },
  {
   "cell_type": "code",
   "execution_count": 20,
   "metadata": {},
   "outputs": [
    {
     "name": "stdout",
     "output_type": "stream",
     "text": [
      "0 0 0 # samples, 52 rate, 12930.033673227414\n",
      "0 0 1 # samples, 136 rate, 33817.011145364006\n",
      "0 0 2 # samples, 114 rate, 28346.612283613944\n",
      "0 0 3 # samples, 100 rate, 24865.449371591178\n",
      "0 0 4 # samples, 114 rate, 28346.612283613944\n",
      "0 0 5 # samples, 139 rate, 34562.974626511736\n",
      "0 1 0 # samples, 75 rate, 16047.176452583788\n",
      "0 1 1 # samples, 120 rate, 25675.48232413406\n",
      "0 1 2 # samples, 94 rate, 20112.461153905013\n",
      "0 1 3 # samples, 112 rate, 23963.783502525122\n",
      "0 1 4 # samples, 87 rate, 18614.724684997193\n",
      "0 1 5 # samples, 185 rate, 39583.03524970668\n",
      "1 0 0 # samples, 42 rate, 3837.340013505566\n",
      "1 0 1 # samples, 103 rate, 9410.619556930316\n",
      "1 0 2 # samples, 102 rate, 9319.254318513516\n",
      "1 0 3 # samples, 94 rate, 8588.332411179123\n",
      "1 0 4 # samples, 113 rate, 10324.271941098308\n",
      "1 0 5 # samples, 161 rate, 14709.803385104668\n",
      "1 1 0 # samples, 57 rate, 5013.007234069321\n",
      "1 1 1 # samples, 108 rate, 9498.329496131346\n",
      "1 1 2 # samples, 108 rate, 9498.329496131346\n",
      "1 1 3 # samples, 134 rate, 11784.964374829633\n",
      "1 1 4 # samples, 116 rate, 10201.909458807742\n",
      "1 1 5 # samples, 118 rate, 10377.80444947684\n",
      "2 0 0 # samples, 13 rate, 545.3740485501955\n",
      "2 0 1 # samples, 60 rate, 2517.110993308595\n",
      "2 0 2 # samples, 76 rate, 3188.34059152422\n",
      "2 0 3 # samples, 81 rate, 3398.099840966603\n",
      "2 0 4 # samples, 96 rate, 4027.3775892937515\n",
      "2 0 5 # samples, 90 rate, 3775.6664899628922\n",
      "2 1 0 # samples, 13 rate, 436.60580049004693\n",
      "2 1 1 # samples, 53 rate, 1780.008263536345\n",
      "2 1 2 # samples, 93 rate, 3123.4107265826433\n",
      "2 1 3 # samples, 88 rate, 2955.485418701856\n",
      "2 1 4 # samples, 95 rate, 3190.580849734958\n",
      "2 1 5 # samples, 106 rate, 3560.01652707269\n"
     ]
    }
   ],
   "source": [
    "eps = [0.02, 2.]\n",
    "R = 6\n",
    "for i, d in enumerate(ds):\n",
    "    mat = Mat(d)\n",
    "    for j, rs, in enumerate(rs_list):\n",
    "        npzfile = np.load('data/APT_mat_d=%d_rs=%d.npz' % (d, rs))\n",
    "        time_per_sample = npzfile['time_per_sample']\n",
    "        it_time = npzfile['it_time']\n",
    "        zs = npzfile['zs']\n",
    "        M = zs.shape[1]\n",
    "        x0 = npzfile['x0']\n",
    "        for r in range(R):\n",
    "            xs = mat.simulate(zs[r])\n",
    "            abc_accept = mat.abc_accept(xs, x0, eps)\n",
    "            num_samps = np.sum(abc_accept)\n",
    "            rate = num_samps / (M*time_per_sample)\n",
    "            print(i, j, r, '# samples,', num_samps, 'rate,', rate)"
   ]
  },
  {
   "cell_type": "code",
   "execution_count": null,
   "metadata": {
    "collapsed": true
   },
   "outputs": [],
   "source": []
  }
 ],
 "metadata": {
  "kernelspec": {
   "display_name": "Python (torch_nf)",
   "language": "python",
   "name": "torch_nf"
  },
  "language_info": {
   "codemirror_mode": {
    "name": "ipython",
    "version": 3
   },
   "file_extension": ".py",
   "mimetype": "text/x-python",
   "name": "python",
   "nbconvert_exporter": "python",
   "pygments_lexer": "ipython3",
   "version": "3.6.10"
  }
 },
 "nbformat": 4,
 "nbformat_minor": 2
}

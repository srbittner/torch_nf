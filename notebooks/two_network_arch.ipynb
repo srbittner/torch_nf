{
 "cells": [
  {
   "cell_type": "code",
   "execution_count": 1,
   "metadata": {},
   "outputs": [
    {
     "name": "stdout",
     "output_type": "stream",
     "text": [
      "1268\n"
     ]
    }
   ],
   "source": [
    "%load_ext autoreload\n",
    "%autoreload 2\n",
    "\n",
    "import torch\n",
    "import numpy as np\n",
    "from conditional_nf import NormFlow, ParameterNetwork\n",
    "\n",
    "D = 4\n",
    "arch_type = 'coupling'\n",
    "num_stages = 1\n",
    "num_layers = 2\n",
    "num_units = 15\n",
    "\n",
    "nf = NormFlow(D, arch_type, num_stages, num_layers, num_units)\n",
    "\n",
    "print(nf.D_params)"
   ]
  },
  {
   "cell_type": "code",
   "execution_count": 2,
   "metadata": {},
   "outputs": [
    {
     "data": {
      "text/plain": [
       "'D_eta = 4\\nD_params = nf.D_params\\nhidden_layers = [100]\\n\\npn = ParameterNetwork(D_eta, hidden_layers, D_params)\\neta = torch.zeros(31, D_eta)\\ntheta = pn(eta)\\n'"
      ]
     },
     "execution_count": 2,
     "metadata": {},
     "output_type": "execute_result"
    }
   ],
   "source": [
    "\"\"\"D_eta = 4\n",
    "D_params = nf.D_params\n",
    "hidden_layers = [100]\n",
    "\n",
    "pn = ParameterNetwork(D_eta, hidden_layers, D_params)\n",
    "eta = torch.zeros(31, D_eta)\n",
    "theta = pn(eta)\n",
    "\"\"\""
   ]
  },
  {
   "cell_type": "code",
   "execution_count": 5,
   "metadata": {},
   "outputs": [],
   "source": [
    "from collections import OrderedDict\n",
    "\n",
    "class ConditionedNormFlow(torch.nn.Module):\n",
    "    def __init__(self, nf, D_x, hidden_layers):\n",
    "        super(ConditionedNormFlow, self).__init__()\n",
    "        self.nf = nf\n",
    "        self.D_x = D_x\n",
    "        self.hidden_layers = hidden_layers\n",
    "        self.D_params = nf.D_params\n",
    "\n",
    "        layers = [('linear1', torch.nn.Linear(D_eta, hidden_layers[0])), ('relu1', torch.nn.ReLU())]\n",
    "        for i in range(1, len(hidden_layers)):\n",
    "            layers.append(('linear%d' % (i+1), torch.nn.Linear(hidden_layers[i-1], hidden_layers[i])))\n",
    "            layers.append(('relu%d' % (i+1), torch.nn.ReLU()))\n",
    "        layers.append(('linear%d' % (len(hidden_layers)+1), torch.nn.Linear(hidden_layers[-1], self.D_params)))\n",
    "\n",
    "        layer_dict = OrderedDict(layers)\n",
    "        self.param_net = torch.nn.Sequential(layer_dict)\n",
    "\n",
    "    def __call__(self, x, N=100):\n",
    "        params = self.param_net(x)\n",
    "        z, log_det = nf(params, N=N)\n",
    "        return z, log_det\n",
    "        \n",
    "    \n",
    "D_x = 4\n",
    "hidden_layers = [100]\n",
    "cnf = ConditionedNormFlow(nf, D_x, hidden_layers)\n"
   ]
  },
  {
   "cell_type": "code",
   "execution_count": 6,
   "metadata": {},
   "outputs": [
    {
     "name": "stdout",
     "output_type": "stream",
     "text": [
      "torch.Size([31, 200, 2]) torch.Size([31, 2])\n"
     ]
    }
   ],
   "source": [
    "eta = torch.randn(31, D_eta)\n",
    "z, log_det = cnf(eta, N=100)\n",
    "print(z.shape, log_det.shape)"
   ]
  },
  {
   "cell_type": "code",
   "execution_count": null,
   "metadata": {},
   "outputs": [],
   "source": []
  }
 ],
 "metadata": {
  "kernelspec": {
   "display_name": "Python 3",
   "language": "python",
   "name": "python3"
  },
  "language_info": {
   "codemirror_mode": {
    "name": "ipython",
    "version": 3
   },
   "file_extension": ".py",
   "mimetype": "text/x-python",
   "name": "python",
   "nbconvert_exporter": "python",
   "pygments_lexer": "ipython3",
   "version": "3.6.10"
  }
 },
 "nbformat": 4,
 "nbformat_minor": 4
}
